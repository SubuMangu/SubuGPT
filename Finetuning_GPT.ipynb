{
  "nbformat": 4,
  "nbformat_minor": 0,
  "metadata": {
    "colab": {
      "provenance": []
    },
    "kernelspec": {
      "name": "python3",
      "display_name": "Python 3"
    },
    "language_info": {
      "name": "python"
    }
  },
  "cells": [
    {
      "cell_type": "markdown",
      "source": [
        "# Finetuning SubuGPT\n",
        "### 1. Importing Instruction files\n",
        "- Import your instruction file satisfying the following conditions:\n",
        "  1. Must be `.json` file\n",
        "  2. Each entry in instruction file must have instruction,input(optional) and output.\n",
        "- Here we are importing the instruction file `Dataset/instruction-data.json` from the repository https://github.com/SubuMangu/SubuGPT as an example."
      ],
      "metadata": {
        "id": "J7XqmBCaml_w"
      }
    },
    {
      "cell_type": "code",
      "execution_count": null,
      "metadata": {
        "id": "n-l66iglpZuz",
        "colab": {
          "base_uri": "https://localhost:8080/"
        },
        "outputId": "13240933-45b8-45fd-89a6-f68ad3bef426"
      },
      "outputs": [
        {
          "output_type": "stream",
          "name": "stdout",
          "text": [
            "Number of entries: 1100\n"
          ]
        }
      ],
      "source": [
        "import json\n",
        "import os\n",
        "import urllib\n",
        "\n",
        "\n",
        "def download_and_load_file(file_path, url):\n",
        "\n",
        "    if not os.path.exists(file_path):\n",
        "        with urllib.request.urlopen(url) as response:\n",
        "            text_data = response.read().decode(\"utf-8\")\n",
        "        with open(file_path, \"w\", encoding=\"utf-8\") as file:\n",
        "            file.write(text_data)\n",
        "\n",
        "    with open(file_path, \"r\", encoding=\"utf-8\") as file:\n",
        "        data = json.load(file)\n",
        "\n",
        "    return data\n",
        "\n",
        "## Importing instruction dataset\n",
        "file_path = \"instruction-data.json\"\n",
        "url = \"https://raw.githubusercontent.com/SubuMangu/SubuGPT/refs/heads/main/Dataset/instruction-data.json\"\n",
        "\n",
        "data = download_and_load_file(file_path, url)\n",
        "print(\"Number of entries:\", len(data))"
      ]
    },
    {
      "cell_type": "markdown",
      "source": [
        "- To import a file from github:\n",
        "  1. Click on `Raw` in top right corner region"
      ],
      "metadata": {
        "id": "wDBPOvswtPuM"
      }
    },
    {
      "cell_type": "markdown",
      "source": [
        "![Screenshot 2025-09-06 210419.png](data:image/png;base64,iVBORw0KGgoAAAANSUhEUgAAAcAAAADFCAYAAADDnyJ0AAAAAXNSR0IArs4c6QAAAARnQU1BAACxjwv8YQUAAAAJcEhZcwAAEnQAABJ0Ad5mH3gAACl/SURBVHhe7d15fFTlof/xz0xCMlkhgbBP2AJEQJQCGkBwQUtLWbQCStW2WhSvttL+bL3X23J/3Cv32h9erlpbt7qg9paKG1Q2rSxiwbCLsgWSQpgkLCH7Ntlmfn9MlplDVjIJk5zv+/Wa1wue55ntnJPznec5zznHEhXTx42IiEgnMmhAnLGo1azGAhERETNQAIqIiCkpAEVExJQUgCIiYkoKQBERMSUFoIiImJICUERETEkBKCIipqQAFBERU1IAioiIKSkARUTElBSAIiJiSgpAERExJQWgiIiYkmXqrbN1OyQREWmz6qpqSkuLyMvNIzcn21jtV/64HZJF9wMUERF/CO4WTGRENLG94gjuFkxG+mlKS0uMzfzCHwGoIVAREfGLqsoq8vNz+UdqCrnZ2Qwbnkh4eISxWcBQAIqIiN9dvHiBs5kOBg4abKwKGApAERFpFxcvXqCqsorYnm0frmwPCkAREWk3uReziYmNMRYHBAWgiIi0m+KSQsLDo4zFAUEBKCIi7aaqsoqg4CBjcUBQAIqIiCkpAEVExJQUgCIiYkoKQBERMSUFoIiImJICUERETEkBKCIipqQAFBERU1IAioiIKSkARUTElBSAIiJiSrojvIiYVnBwEImJoxg99hr69u1H9+7RABQUFHLhwjkOf/01x48eobKqyvhUaYVrx1/HV/v3GIvbxB93hFcAiogpjRiZyO3fn0d0tCf0AFyuas6fO0+v3r3pFhwMQHFxMX9d+yFHjxz2era0hgJQROQKmnbTzezYvg2A782aw6QpN+B2uzl65DApx4+RlZlJzsWLVFZVYrFYGDVqDNNuupkBAwcCsGf3l/x17UeGV5WWCNQADAoNi1xmLBQR6WoeXPwI3UJCGDRoMNNuupmLF7N5e9Xr7Nr5d86ezaK4uBiXy1XXPjv7Avv37aGosJBhwxKIHzQYi8XCqX+k+byuNK9v/wGcO5tpLG6THtERxqJWUw/QbJIeZfncQT5FeclvsHLd8QbrfeoASGTWEw+QVHeD53TWP/kHkgGYzv1Pz2CYV+s6aZ/wm9e2eP7t8x5FJL/4FOsdXm3tC3n8kXHUvkXauid40/MGBjWfhYO8smI13i/RYob38vmc0Mz39Y+kRSuYNcz/ryu+lj+9ou7fpSUlvPDc/1BUXOTTpjH9BwzgJw8uJjTUxmuvvsTpU6eMTTweXMORZVNg51OMXvCyT9VDa46ydArsXDaKu/8IU57ZzqoF8TjW3Mctv9rp07arCdQeoGaBmlHaJ/zmySfqHt4BlzQG1tfVfUJu0gPcn1T/VPvc+cTtqH/uK8mxzHpiIXYAtvCm1+vWvkYaRSR/UhMq9oU8PjeW5Bdr6tflkvTIo9S/xXTuf2Qcuetq6l88SOzcpczyvIGvpOlewXQ5Epm1MJaddZ/1DZJjZ/D43MS6Fk1/X/9Ifu0JfuPn8LPPXcryRdONxVIjPf00xSXFPmVRUdH8y6+XMvG6633KAbIyM3l39f8CMPeOO7Fa277rjIsOxeY5zNis25/5K/uPZbJ1pbFG2qLta1E6FXufWGORj+TXvHfEWziWBsPG1O9IHeue8umNOdbtIi0mgWsaSQT73MkMS9tV18NLmjEOkt+r7/ElbyE5bxBTakLH0/6T+vdwrGZnWhRJM4w78+ncPzeWtLSW/YJv2HHWr/D+vsdZvyOdmJHj6gKutd9XOoerRo1m7h13+pT1iutFZGQU8fGDfcprnUhJ4ciRb4iL603C8OHG6lZbu3gS9gFDW9T76z0ogd71c3XETxSA0qy87Msdu5/OrUnU9/5IpFcs5J73HlI9zqGUImLiBgAwIC7qkvdLPpwOsb19el1Ji2YQm/wen2V7FQYA+9ylLH9iIUlzl7L86RUsf3pFTY9yOvfX/H/507492trneIoSmfWE5zlJi2rb176GR9KiFZf07up7fJ7nL06KgmEzGn5u3efw7nnXvEYjn9GX5z0aex2M77NoOkmLfD/HJW2eXuEz0tAetnz2KVs/+1vdo7CggNBQm7FZkw7u3w/AyMRRxqrWW7kdR6ZXr+6aJbz6+VFOpmfiyMzEcWw7L8yDZz7PZOmU7gAMvzsTR+Z2ngEgntuXrWHXsZr2mZkc2fdXnro9vu4tHlpzFEfmUTb96ROOpGfiOLaG3606iCMzk/2r7qhrB0vZlJ6J46t3uNurtKtTAJpRzY6xdufUKPtCpgxLZ6fPMUCDpESGkcvFhg7AJSUyLC+VQ3V1A4iLKaLxPG0oIBuQ9CizYg+ypqnPdZmSxgyC3AuNH09s6vvWihnHFN6rGeJNJybpAZY/PZnsmmHf9WlRJC1sehg1JukBrjpcO0ycTkzS/CYCydtx1q94gleSi+qGumuHuJMWrWAW9cPfPsO5SY+yOCm3fvh7XarxhevZxxGX8kbd66xPG8Qsr+0oadEKZsUe5JXa1zqcyCyfA8OeAPX+LJ6h7vYNwW1bPmPrlr/5PMrLncZmTUo7eQKAIUOHGqvaaAov/OEJvpsAqWufZ+lvV7O/IJS4GNi/6SO2ppYDcOHAR6x9fyP7gSnPvM0zD07Bzkm2vv8Ra7edhH7j+fH//JGlQ7xfuztjxsNflkzCftUCHntjJw6gd+JMptQ2+eVEEoLBsftl/uL91C5OAWgyjnVP1e90nvyEtGEzDCHo1VNZCGuaOjZlX8jjcweRtq6hNonMmjaItB0tnJxi6OFdIiYWTx/RM/SZvLqFr9sK9rlLPZNRfCbBeGny+3rJ8wrn5C0k50Ge17Bv8icHyav7Po3wHgZO3kJyXhQ1neTLU/Njxvu7XTKcm5dL3W+T5NW+E5O8OVbzptePD58eun0hU4YV+a6f5D+w3nviZNJ0kmIMy9mxmjXJRT7D7VdKWHhYo8f4KquqKCsrIzw83FjlI3rK0rpeWe2jthfXsKuJ6wmUONj13ApWvfBLbk+6i199Bn/57U/Zed4T1AUnfsrPlqzgLyzkoduGY6s6zKqZN/GjJT/lZ/fexM/Wn4HQMXz3X+qiDYCTGx/kqbVnPP/ZsYKdqYB9DHdP8xT96sYx2DjD/v9tfji2K2l4LYtJbOHNdekwLNFrCMtrIstqWGAYQquT9CjLayarNDhD0z6OkTHpHGuoriFN9bqo3TknMuuJGbDOMGu0KfaFPN7kcJ5H0qIVNT2gRsKtue/bjGZ7tQbGYWCA2D4NrIeWGhBLDIOY5TXkuPzpGQyjJliTj5MWM47FLR2KTHq0/nW8ZxUPiCWmmR6yvU+sb9jWcJzPbf6HUBs89PAj/PDHPzEW1yku8hxPTrxqFL/85yeZftuMBoMuOCiIsLBLy33knuFkykmfhyPX2Mjby2z9qgAixvDQ9n+wf+Mf+dXt4GhksimMxx4HnP6GpV5ttu5zUAh0j7naq20BF47XhB8AZ/jdjsNAPKPnxgNLmDIyFFJ3smKHVzMTUACaXWYuecayWo7VrHzxoOcXu1exfe5Sls/1zBZtLAzs30ogJu24IUwyyW6yJ3Oci7lN7OhrZn0Om1u/E1+cFAUx41jcgpBrmPdwXMPh15Lv2zmke83wrX94vlPND5+aociGjuvVSlq0om55eIZL030bNBBul2juB087CAsPZ8TIkURGRhmrAMjOzuatN18n9WQKUVHR3HzLdGbOmu3TJiIygm4hIZSWlfqUGxUee4tbbrnJ57HqWIGxmY9XF36Hu5d/xP6zTnpfM5PHnl/HWw8aW/mHY+nfOVwFw69ejP3BKQyPgMM7ftfh6+RKUwCa3YDY+nPgWiLpURaPTOWVRsLCI5FrRkaRdtg4lNhQwPm2zcyunxBTK2nMIPJSDuJI/sMlO+9Xkosg7yCvPNlIr9CxmpWN1QFJix5gZMobhnP/vLTo+3aszOxLZ74OiGt4p14nM5c8YunV3I8Ex2pW1hzXq52Z62s6Vw0rIvnFRpZHZi55l8yS9RzbreU4n2sYdfCw94lt12B0pHt6QUOHNnimKgAnT6Sw6o3XWbnit3y6eSP79vqeuzZ0iOe56Y2dB3jZ4rEPOcPOl37K7UmjmPzSYZzBvZlw28PGhjVSuVAIDL6ap7yO990ywU40UJD9jXfjBjzFpgPlMHICy28bQ3TVYXYt9e4lmoMC0FQSmbXIe/LFdO6fO4i85C31J7L7HA9MZNbCcZ5jULX/b8lxPfs4RjYy2SX5sGFCR9J0kjjIZzV7U8eBVPKGzagfhmvJRJzL1exrt/D7djBPgEz2WoaPGiaZ1PAeTqw9ncRn8k399mCf+6hXD9o3sHx5evEjv1Ubjp5tqI7jICl5vqet2OfO9z1fs+bUF++JM9gXssBnxrD/ff31VwBMnjrVWHWJ/Pw8dny+/ZIT3q9LmgzAoUOe1/KfmTyz+kvWPv8EP37gCZ6YbMcGnHd4gmyT4wIA9uvX8MLq37OUl3l140mcwWP48cbtvPX873nhT9t5YVY85O5k1X83fyzvdzsO4wwewy3Xd8f59RaeMjYwAQWg2cR6jvPUHgNinfeJ8Jlkx3rNEH3a0zvyvRKM7xBkg7NJB8QS4zP700vyH2pOfq89fgTrva/iUjPs6hmGW8HyRxJIaay34RfG42Keh/dxsGa/b0dL/oNnJmntMhxz3NMT9uKZ4OJZ17XHcJNfe4NkvNf/A8Qd9ix7x3nqX6+R9e5xnPWrD0LSAzVtEznmMwR6nPUrPBcUqF1WC3jPdxJMA20867nxnro/pJ48QVZWJgMH2hk79lpjdbPGjR/PkKFDKSoqJOXYMWN1G50nu7w74+ct4amnlnB7IpzctILHHvcEmeP3f2GroxzbkCncPnk4IcDWx3/If75/mAtBw7ll3h3cPjUeUjfyzL0LeLUlHdRnV7MrGwgu58jW+qvkmIkuhSYi7cxzObm4HVf+GOqQoUN5YNFiqioreeWl33Pu3DljkwYNGjSYHz+wiG4hIaz+0zscOdLcEGMnMOQJ1n6yhPHVO3nqqgW8aqz3I10KTURMyTME2ooZwe3o1D/+wYaP19EtJISHHn6UhISmr+hisVgYP34iDyxaTLeQEHZ/uavzh98za9j0yh9Z+97DjI8o5+TGl9s1/AKZeoAi4kfGi4d7zou87IuVt5PJN0zluzNnYbFYOH7sKHt2J3P+/DkKCwpwu90EBwcxfEQiU6fdSPwgz6XRdn7xOZs3bcTt7uS7zGe24/jBcKgq4OTaFfxoyap2XzeB2gNUAIqIKQ0blsCsubcTF9fbWOXj4sVsPt28STfEbQMFoIhIgLFYLFw1ajSjR49hoD2enr16UV7u5GL2Rc6kp5OScoy01JOdv9d3hSkARUTElAI1ADUJRkRETEkBKCIipqQAFBERU1IAioiIKSkARUTElBSAIiJiSgpAERExJQWgiIiYkgJQRERMSQEoIiKmpAAUEZF2E9wtmOqqamNxQFAAiohIu4mMiKa0tMhYHBAUgCIi0m5ie8WRl5tnLA4ICkAREWkXvXr1JrhbMLk52caqgKAAFBERv+vVqzf9BtjJSD9trAoYCkAREfGL4G7B9OgRy9CEkcTGxZF28jilpSXGZgHDMvXW2bohroiItFl1VTWlpUXk5ea1+7CnP26IqzvCi4hIp+OPANQQqIiImJICUERETEkBKCIipqQAFBERU1IAioiIKSkARUTElBSAIiJiSgpAERExJQWgiIiYkgJQRERMSQEoIiKmpAAUERFTUgCKiIgpKQBFRMSUFIAiImJKCkARETElBaCIiJiSAlBERExJASgiIqZkmXrrbLexUEREpLVc1dWUlpSSn5/LxYsXwN1+8TJoQJyxqNUscQOGtd8nFBER07BYICIiku49ehAcFEyGI52S4iJjM7/wRwBqCFRERPzC7Ybi4mIyMzLIK8hnWMIIIiKjjM0ChgJQRET8rjA/n3MXzjPQPgiwGKsDggJQRETaRWF+PlXVVfSKa/twZXtQAIqISLspyM+nR4+exuKAoAAUEZF2U1JSQnhEuLE4ICgARUSk3bjdbrKzLxiLA4ICUERE2lWfvv2MRQFBASgiIqakAJTAZQnMqdPiEWQN0jpqJS2zwKIrwXRx3XvEEB0dTZgtDGuQ/3/vuKpdlDnLKCwspCA/z1h9GSzExPYgKqo7tlAbBYUFxMTEGBsFnKrqKoKDgo3FHa6yqpJuwd2Mxe3GVe3CWe6kqKiAvLz8Nl/6qkdMDNFR0djaaXttyBVZZs4yioqLyMvLa/My6wwSrxrFV/v3GIvbxB9XglEAdlE2m42+/fvjdrkpLS2hvKIcV7XL2KzNrEFWQkNCCQ+PwGK1cC4rC6fTaWzWImHh4fTt2w+3242zrIyK8go6y8bZp28fMjIcxuION3CgvcM/h81mIyIiAovVyvlz5ygrLTU2aVZHba8NuaLLzGLl/PnLW2adSaAGYMf8xJIOZbPZiI8fjLO0jJyci5SVlbXbzsRV7aKszPM+ztIy4uMHY7PZjM2aFRYejn2gnTKnk4L8Aso7UfiZndPpJCcnh9KSEuwD7YSFt27Ku81mY/CQoZSVlLb79hoo6pZZ6eUtM/EPBWAX1Ld/fwoLCyguKTZWtavikmIKCwvo27+/saoZFvr27UdxcQnlZZfXe5Qrr7S0lILCAvr07duqS1/17d+fvNxcSkpLjFVdXmlpKfkF+fTp01fHBq8ABWAX071HDG6Xu8PDr1ZxSTFul5vuPVp+3C4mtgdut5uysjJjlXQyJSUluF0uYmJ7GKsa1CPGs72aMfxqlZaW4na7OsWx7q5GAdjFREdHU3qFdyalpSVER0cbixsVFdUdp8KvyygpKSEqsmXrPzrqym+vgcCzzAL3rgldlQKwiwmzhVFeUW4s7lDlFeWE2cKMxQ2zWLCF2igvrzDWSCfldDpbfBzYFgDbayDwLLMW/s2I3ygAuxhrkPWKTyBwVbtaPoXd7aagsMBYKp1cfkG+sahBgbC9Bor8An+cRiStodMgupjEq0Z1+JTuhgwcaOf4saPG4gYlXjWK8+fOG4s7lcs9DSI0NJRbp9/KsIQErNbmfzSczcri07/9jby8XGMVXKEp/Q1p6foPhO21sy2z5vSKi2P27DkMGDDAWNUqGQ4HH3/8MTk5F41VrabTICSgWIOCGDliJLdMn868efOZN28+UyZPITIigpCQEK6//npmz57NvHnzueXm6QwfMQKrVbPU/G3q1Gk1y7Zlf4r9+vdn1uxZxmK/iY8fRHz8IGNxpxIZEcGcOXN4ePHDTJw40Vjd5d11111tDj+AgXY78+bPNxZ3KeoBdjEt+UXdLTiY+QsW0Lt3H2MVJTUn5EY0cF7S2bNn+eCD96mqqjJWXaI1v2bN3AO888552O123nn7bXJyc4zVPqxWCz9Z9BDhYWE8//xzxmrwQ2/mwQcfwu2G11571VjVKi1d/y3ZXlsjMjKSBXfdRXRU/SScvfv2svPvf/dp562ty8xfWrrMmvPr3yylpLSE3z33HC7X5Q0vW61WHvv5z4kIj+A/lz9lrG419QAlYCRNmkzv3n3IyMhg586/s2rVm7zx+uukpKQQER5ORHg4x44d47XXX+Ott1axYcN6sjIz6devH9cnJRlfTtrAUnPuV2VVpbHqEi6Xm+rqqrrntIfg4G5069ZxlwXzp8jISObPX0B0VDTHjh/j9ddfo7S0lIkTJpIwLMHYvMuyWCxUV1VddvgBuFwuqqvad1sLBApAk7FYLIwZczXl5eWsW/sRe/fuJT8/n8KiQg59faiu3YED+yku8lyr8OTJk3y0di2VFRWMGjXa5/U63g94cesu9uzxeny5nS1rVrJkqrGtmEVkVBTz5y+ge/funD13jk8/+ZSioiLWfvQRgH64SYMUgCYTERlJaGgIuXl5VBqGMoODgur+HRIS4lNXWVlBXn4eEeHhLZ7i3q5KT7Nz46ds3ridfY5yogZP4p5/XckcYzvp8iIjI1mwwBN+AH1692bw4EFYLBa+NX48AGfPnTU8S0QBaD41wyLVDRzH69ev/qaV/fpeejmz6qpqACyBMBnGlcO+Zcv4t2X/yiML7mezA+jZj7HGdgGiW7cQbphyg8+Eo0AQGhqC1euHj5HVaiU01PfHUCDxHvY8ceIE69d/DFiYPXsud945j8TERAoK8vnyy13Gp5qOxWLhmmuvpVevXnVlveLiGHvNNV1+qLMxCkCTKSktpby8gl69etXt2IKDg4iLi+Nb35pQ1278xAk+fyhRUVH06tULZ1kZZaWBdtWWQYSGAtUVFNWUzFm6ik1bt9cNk36x7oWaIdLx/L91u9iz58/8xl7TeOZKNu3ZxZ5NK/lOTdE9L37Cnj0f8+zMmoI2mjNnDhMmTmTgwIEMHDiQUaOv9FCyZ4c4b94CFsyfT1gDvfowm427FtzNnXfOM1YFhMioKBbcdRfdu3cn5UQKmzdvJDU1lU2bNmC1Whg4cCAF+QWsWbMmALfZjmWxWPje92Yxe/Ycpk27sa58+vRbmTNnLjO/N8uUIagANBm3243bVY3NZuPhh/+J+Qvm8+CDi7nnnnsJDQ3h0KGv+PrrQ4TZbNx77308/E+eNvff/xO6hYRQ3YYD635l7cmEZcv4j2X/xYsfLOPm3hXkfPEpz9dUjx3dj8Lj23njv1fyxpdZ0G889yx+nP7sZ1tqDtCfwTXh1n98P3ri6UFOsAOMZ+yAKCg+zb6N9W/ZFgMGDKC8vJwPPnif999/j9V//l9jkw7ndrspKiqib99+LLjrLiKj6i/FFRkZxYK77qZP3z4UFdX+rAgctcOe0VHRpJxI4ZPNm3C53FiDghg71jMOUFBQwLtr3qWkxP+XWouIiKj7MdPYo6GZ1FeCxWJh5vdmce24cVRWVrJ7z+66ul27dlJVVcW4ceNMGYIKQBOxBgUxa9ZsbGFhlJdXUF5RwYD+AwkNDSUnN4f16z9m27ZtbN26lY0bN5Cbm4ct1MaA/gOprKygoqKCiIgIZs2a3eLz1tpN+GCmzPw235l5ExN657D5vx7iu0/8ua56+d0zuOuRZby85gNeXvIh3xQD/QdzM7B5/2mKCGHImDsBmD9yMFzIoaguFCfRvzeUn/4Gf8WU1WqlvKIch8NBRkYGxe2wU74c69d/TFpaKjExsdx9190EBwcRHBzEwoULiYmJIS0tlfXrNxifdkV5n+qQciKFzZvqw2/O7LnY7fGe8Hv33Xa7zmhMTAx33PH9uiFt4+P2279P9x4tuyB4e7v++usZN24cFeUV/Ontt8nMyKirc5w5wzvvvE1FeQXjxo1j4sTrfJ7b1V3hvZh0pMmTJ5GQ4JkOfuHCOV5+6SWee+5ZnnvuWd55+21SU1Pr2p44cYK3315VV//SSy9y4cIFABISEpiUNKmu7RVRvJ/nr5vHv/35MEWhg7n5B3fifVRt5IInefGt99myfTtffPlTJkR6Vf75G06VQlT8eCbwEFcPhFO7P+FUaU0o3jeS/kFw+uu2nQvXGbhcLtav30BqWiqRkZEEBQURFBREREQEqTXh53YHSK/fEH7Hjh1j86ZNuN1uLBYrc2bPZfDgQe0efgAZGRmsXbuWqprj4t6qqqr44MP3ycrKMlZdEe6aO867GrnDptvtbrSuq1MAmsiYMVcbi+rc9u1vM2LEiLr/jxgxktu+/W2fNt6uvrrx1+o4WWx+bhnvHa4gdPBsHlvqmfHH7JU898vZTLBX8PX2j3nzqT/ztc/doV7lmwygd3+mLLiaIeFZnP70Q05f8ITiPdcOJorTpHzg/Zz2UVVz/p9x1m1DLBYr3YK6XTJ7tzUaWq9ut4sNNSFYKzUtlY0b1l8SfsbtpCMZw+/TTz+pC7/Zs2d3WPjVcjjOsG6dbwh6wu8DzgZI+AHs2bOHgwcPYAsN5Z777vO5Skx8/CDuu/eH2EJDOXDgAHv3+vdk9UCnADQRW6j3RIf6sf7IyChGjxrtE2pXXz2G0aNGE9nILVpsYYFy5fosXn5lO1nAkOmLedgO37lpBD2BU9t+wC+WreSNb0IJNXzc91JOQ1A/JnyvH1E56WzbncXmtCzo3Z/vDOgJZ097Zpa2szNnPG9y77338fOf/6LJx5IlSwgLD+NMerrxZVqssfXqdrvYuGE9hw59xaFDX7Fxw3pcLt9eQUPbSUcJDw9nwQJP+B0+/E1d+FmtFmbOnMnQoUPJz8/vsPCr5R2CgRh+1PTwNm7YwMGDBwgJCeGGqdPq6m64YSrdQrpx4MABNm3cUNdbNAsFoNRd49Niqd8cav/dKa7/uXsZf/2qAsLHMPfns/k63zNpo/+1L/Cbf32SF5+bzUjDTP+sT0+TRRQjR/Sn6NR+NgP7Dp6lKGgEI4dCTup29vk+pV0cPXKEnTv/zpkz6WRkZDT72L9/P198scP4Mi3W1Hp1udxs27aNbdu2XRJ+NLKddJRvjf8W0dHRHD58mM8++6ym52dhxne+y/Dhw8nPz2fNmjUdGn61HI4z/PWva1m3bl3AhV+t2hDcvHkTX3z+eV3559u3sXnzJlOGHwpAc0n36TnUb+zFxcUUFhaSlZVZV5aVlUlhYSHFxQ3fWT7D60B6IHjj9U84VQ09Jy/kgU9f4L1jRYTaxzNn9gz6n97OPuPX2L2dUzlAUAWnDtVMnlnjOTYIRZza/6nhCe3DWe5k7969fPjhh7z//nvNPr74Ygf5+S271VBXMmyo59h18u5kqJnZOGPGdxg5YiQFBZ5THa5E+NU6c+YMDscZY3FAcbvd7Nu7l6yz9SGdmZXJvr17TRl+oIthdzlNXVw4LDyMO+74Pr3jelNWWsbfPvuUU6dONbvxW60Whg4ZxvTbbiPMZiMn5yIffvhhk9PLW3NhXzNcDPvnP/8FhUWFvPH668aqS1iDgvjRD3/E8ePHW30Cd3MXdp45cyYjRoxky5bPyMtr3f3nYmJimD79Vk6cSGHjxqbPD2np+m9qe63VvUd37v/xA+TkXOSdd94hMiKCyVNuYNSoURQU5LPm3XfrLuJ+OZpbZh2lpcusOb9Z+m8UFOTzwu9+Z6xqlZ899hjdu/dg+VP/YaxqtUC9GHZQRHTsMmOhdF694uIoLCw0FgNQVVnFkaNHcbvdDIqPJ/Gqqxg79mp6xvYkODgYi8VCZWUl3bp1IzY2lvhBgxg/YQK33nobo0aNJshiYd/+/WzevIny8qbv4h0d3Z2LF7ONxQ3qFRdHSXHjYdoZREZGNrrcAZKSJlFeUc7BgweNVZeIiopi0iTPLNujR1u3Q4yO7t7k5wgKDiYhIYGhQ4cyatToVj2GDh0KwN59+7h4sel7xLV0/Te1vda6KvEqBg8egrOsjFGjRjPtxhuJi4sjLy+P99asaVP40YJl1lFausyaM+3GGykvd7Jnd/35fpfj+uuvx2azsWNH/ZDp5eoVF8e5s/UjTP7QIzrCWNRqCsAuprkditvtJiMjg8NHDuPGRUxMLAPtdoYPH87Ysddw3XXXMXHiRMaOHUtCQgJxveJwA18fOsSGDetJS0tr8PiQUWv+mM0QgNdfn0RVZSUHDhwwVl3CZrMxbtw4CgryOXbsmLG6Sc3tzHNycjh9+jQFBflkZWVdcoyxqUd6+ml27dpFevpp48teoqXrv7ntFWDixOuIjY0lLDycyMhIsrOz+eqrg3z22Wc4nU5j81Zrbpl1lJYus+ZMnTaNiopKdtcMF1+upKRJhISE8MWOyz/mXCtQA1BDoF1MS4aUjGJiYrDb4+nZM5aoqCjcbigsLKKwsICCgnwcGRlUVlQYn9ak1gznXO4QaJDbzaRKJzdUOflteIyxukM1NwS6YP4C+g8YQFZWVrO3qQkPCyO2Z092797t9yHQjtLS9d+S7XX06DEMH57A6dOnSUtL8/uVaTrbMmvOj370Y+zx8Tgcjma3tcZYrVbsdjuOM2d4661VxupWC9QhUAVgF9OSHUpHaOkfc5A1iOEjR7YqALu7XXyvvJQ5FSX0ra5ia0g4/xER2AE4ePAQJk2aRJ8+l96E2MhVXc0ZRwbbt29t9YSXzrYzD4TttbMts+YkJAxn2k030r/fpRe0b42ss1ns2P45qaknjVWtpgCUDjFiRCLnLpzFVX15v/z8wRpkpW/vfpw4cdxYdSmLhRHDR5Kd3fzQz6RKJ0mVTiZVOuntqj/5+NnwHqwLbftwSFs0F4AdJVB25v37DWjR+g+E7TUQlpnFAv36tmyZdUaBGoA6DaKLKXOWERoSaizuUKEhoZQ5W3j1fbcbZ7mz0Vvu9HZVM6e8hKeLc3i6OIe55SU+4QdwIrhz3sG8q7LZbDhbuP6d5Vd+ew0EoaE2nOVtP54praMA7GIKCwsJD7+yvaHw8IhWTSooLCy85MoyY6oqeLCskN8W5/B/SvOZVNnwziEtqBspVgVgIImIiKCwqGXrv7Dgym+vgSAiIoKiogJjsbQzBWAXU5Cfh8VqITLC++rPHScyIhKL1UJBfsvPMcvPy8NisRBjC+GWijJ+XZLLb4tzuMdZxNBqz7UyG3MiOASXyW7hEsjCw8OxWK3k57Xs2GV+fh5Wq4UIE4dg7TLLy23ZMhP/UQB2QeeysoiO7t7hIRgZEUl0dHfOtfJyUEOpZrrjFP+Zf4F/K8nltooyIlt4B4KUIPX+AkV4WDg9usdw/tw5nysNNedsVhYxsbEdvr0GgoiIiMtaZuIfCsAuyOl0cubMaWzhYfTs2YuwsDCsQe2zqq1BVsLCPO9jCw/jzJnTLT43axLV/DOVvEAlP6ssZVRZ688F1PG/K8tigbAwGz179iQ8MgJHxhnKWnliutPp5PSpfxAWHkZsbPtur4HCZvMss7Dw8MtaZuIfmgXaxXXvEUN0dDRhtvbZqbiqXZQ5yygsLGzRsGdP3Eyjmmm4mIqLtsRXemgYTw4ZSfUVuDizUVV1FcFBwcbiDldZVUm3DvxR4Kp24XSWUVhURH5+HjRzWb3m9KjZXm3ttL02pOOXWTVOp5OioiLy/LDMOoNAnQWqAJQOMRo3U6lmGtWM9tNQz1qC+L9tilAR6QiBGoAd8xNLTKkbcAsullHJC1TwT1T5LfwAjnnd01BEpLUUgOJ3A3HzA6p5gQqepYI7qKanH4Ov1lFtviLSBtqDiN9MxMXjVPF7KvhnKplEy2ZyXo6TWDimzVdE2kB7EGmzEGAllbxGBT+kiiHt0NszSsNK02cIiog0TQEobVYBrMfK1x24OR3U8T8RaaOO22NJl7aNIJ4lmB0dtEnp+J+ItJX2IuI3B7DyHMF8TJCxyq9SsXBcm66ItJH2IuJXaVh51h3MO7TfSeFHsdK62/OKiFxKASh+l2Ox8Jw7iN8TTHE7zIc56tbxPxFpO8vUW2e3wy5KxOO2vIvMyTlH70r/9dmWDh7BiTDzXThZpLMqLi4iNeWYsbhN/HElGEtUTB8FoLSr7wZZWBRsZUxQ23tuJ1xu7iyvpkJbrYip+SMANQQq7W5TtZtfVLrI9sNFf0+6UfiJdDLXjr/OWBQQFIDSISZbLYT74ca1B11KPxHxDwWgtLsZQRYWBVvwxz2/j1QrAEXEPxSA0q6uC7KwqJsVu7Xtvb+TLjdH1AMUET9RAEq7CQf+PSSIsU2EX7mxoAkn3K1rLyLSFAWgtKt/NNFjW1np4j5ndYsnx+zR8KeI+JECUNpNKfDrimpeq7o0uN6scvFGpYtDLjePV7jY0YJwO9FEmIqItJYCUNpVvhueqajmvypdVNWUfVHt4r8r6v+/u9rNkvJqdjURcNluNweaqBcRaS0FoHSItypdLCmvZr/LzWPl9eFXqxR40FnNe1UN30R3T8PFIiKXTQEoHeazajc/cFZTaqyoUQX8e6WbZytdFBmOC36l3p+I+JkCUAJKpdvNy5Uunql04/AKPZ3/JyL+pgCUgPRulYvHKzyXT8t2u9mvHqCI+JkCUALWIZebu5zV/KVSBwBFxP8UgBLQMt3w+wZOoxARaSsFoIiImJICUERETEkBKCIipqQAFBERU1IAioiIKSkARUTElBSAIiJiSgpAERExJQWgiIiYkgJQRERMSQEoIiKmpAAUERFTUgCKiIgpKQBFRMSUFIAiImJKCkARETElBaCIiJiSAlBERExJASgiIqakABQREVNSAIqIiCkpAEVExJQUgCIiYkoKQBERMSUFoIiImJICUERETEkBKCIipqQAFBERU1IAioiIKSkARUTElBSAIiJiSgpAERExJQWgiIiY0v8HYf2ZE6TML4IAAAAASUVORK5CYII=)"
      ],
      "metadata": {
        "id": "zZnBGmkSrIQ9"
      }
    },
    {
      "cell_type": "markdown",
      "source": [
        "  2. Copy url"
      ],
      "metadata": {
        "id": "diqUTMOBq-9W"
      }
    },
    {
      "cell_type": "markdown",
      "source": [
        "![Screenshot 2025-09-06 211255.png](data:image/png;base64,iVBORw0KGgoAAAANSUhEUgAAA9QAAABHCAYAAADmzg/0AAAAAXNSR0IArs4c6QAAAARnQU1BAACxjwv8YQUAAAAJcEhZcwAAEnQAABJ0Ad5mH3gAACDuSURBVHhe7d17eB1lnQfwb5I2hDYJFJpixENbaCutrfFJwa4RBan2sl7qBh5Ku4Jx11NljahxTY2btQbK1mYfg49PfXAb3C26AnWxGBGalq0uKwRYbbQ2kNoLaUih0kBi07SEpDmzf8zlvPPOO5czObck34/PkWZmzpy5vu/7m/cyOTNv2q6BMoSHnsav2FsDGHmtU57skMMrnYjSJEx6E+Y7RERhhUlzwnyH0idXnkCpoLl8iMav3KnTjSTeG690IkqXMOlNmO8QEYUVJs0J8x1KHwbUKcHAmSaB3DzkFhTLU135h95EROEkI31JxjqIiNwkI41Jxjoo+RhQJxUDaJpccqfNkCe54p1BRKmSjPQlGesgInKTjDQmGeug5MthH+qxSvDwJbg4UVbTRjF88g/QRkfkOf7YIYiIwkpH+pGO3yCiiSsdaUg6foN8MaAOLcBhC7CItzGvgCjlYufewMjrR+XJREREREQTHpt8h+IR6GrCx3VG0A9R9suddilyp10qTyYiIiIimvBYQ50Qj0PlmOWYQDRxaRpGejsRGxqQ5xARERERTVgMqAPxOESOWY4JTlqAZYjGm9goht84Am3otDyHiIiIiGhCYkDty+Xw2Ca7LANV8Cz/TTSBaMD50z0YPXNSnkNERERENOEwoPbkcmj8gmlbEB3/t2JJnSPoJhrfYsNnMPpGF7TzQ/IsIiIiIqIJg4OSuVIEuZo42faHMUkzgmP9o//P+Mucp/oQTTC5+UWYWvpu5F0cQc4F0+XZREREREQTAmuolRSHxDZJEUgL0+Mxt2I98nfhthzRBKKNIjY0gNj5IWjDZxF7s19egoiIiIho3GFA7aA4HL7BtBBIO4Jj42/HdCIiIiIiIhrPGFA7yAGzyx9CrbQ11RY06825p509hryzr0I79wYwPACMnENObJgBNhERERER0TjHgNomkWBa/1uz/rZm4oK3/oz8vheA/i5gZFCYR0RERERERBMFByULxBlMWyG1UFOdP9KPohOtyD/0MHDqIINpIiIiIiKiCYwBtcWtdlodTIt/Q4uh8I3fIv9PDwFvHIovT0RERERERBMWA2ogoWDa8bemoeiVPcg58QxyRt+KzyciIiIiIqIJjQF1gqz3SRvBdOHxn7NWmoiIiIiIaBJiQJ1A7bQm9Jc2g+mcge74cmM0WF4rTyIiIiIiIqIsxYBayT+YLjqxZ8zBtBxAF7Y3QsvLB3JybNOJiIiIiIgo+0zygNqtdlokDEJm1kz3/Q7oG3sz78L2RnkSckb5jmoiIiIiIqLxYJIH1D40I5g2A1xNw9TzfwFO/k5aMJhz7/xbeRIRERERERGNUwyoTXLfaceo3jEAQMGfnw89mve0P/1EnkRERERERETj1CQOqD2aVYvvmxYC6wuGX0tKU28iIiIiIiIa/yZxQK3iEmQbQXV+X4c8h4iIiIiIiCYpBtRwj6Ntzb41Deg/Li9BHjhWORERERERTWQ5M2/a7hZOTnBi/2jhH/JrsrQYoGmYdvYY8l56PP4dQmzBenkSERERERFRRuUeflCelDKTtIZa9QwhPs3+L/2Td/ZVayoRERERERHRJA2oZWKALdZca0Y8rUF7s09Yxt1IyTXyJCIiIiIiIpqAGFCbTbsd08zpxr+HB6SF1Kb2hntHNREREREREY0vDKhFxrum9X/Hm3sDAEbOxecRERERERHRpDe5A2pbS2/9D30wMmOG2dxb05ATGxYWzqwpU6YgEnkHrrjiCuTl5cmziYiIiIiIKA2sUb6LLszHDe+5HL/6/QmcHRqRl8saU/JycduHr8b1774c8y+/GLMvK8KJ3kH89vBr2PX0Mfz6DycAAO33rUOkpBAlNzfLq7AHzNa/NWgwRvnWYvp0Y4RvTYuh+IX7xBVkxKJFC7FyxQosWrQQubn6s5BYLIbOzkPY++ST6Oh4Qf5KSnGUbyIiIiIiyjYZGeX76sgMvG3GdHz8fXMxvWCqfaksEZlVhF/9ayUao+/HR5fNwYJ3XIz+M2+h5OILcesNC/DT+tV47O6PI1JSKH/VSdF12saoqLbVWGdIQUEBqqpux1drvoLFi99lBdMAkJubi3e9axG+8uUv4TOfqUJBQYHtu6m3BvtaG7CvRp5OWauyCgdb6/BQpTwjnOjWOnQ/UoWoPIMoU5J8jVMS8JwEV1mFg60N6G5twMGtFfLc4LLmmOvlhDHtCxGFU1ON7qxIByY2KzL77eHX0PlyH4ouzMcnsjCovmzGNOy+5xNYeMUMnPrLOXz9/mdw+bp/x5INP8FVtz+Aj9U/hl//4QT+auHbsPfbn8RF0/PlVfgwg2ZbO3AjqhYmpdn06dPR8K1v4gPXXSfPsuzZsxe/efppXPf+CjR8axOmT58uL0IuGpsbXILBcVgAMAphfLhB44bimm1s1gMJ8ZP5+7ACDz2ib4v//aWnHd2t1WiUZ40HjnNi7o/4ybbCWfz8uG+n2zLCeaqpVsy3f9TnP4n5RWUVDm6Yi1N7N2H2qk1YsrFNXsJHErclS0S31qXtfnIvEyRGXI++/c5rKfvuoyQT0pJ0nsPMmXj3XjIk657KdrY+1E93vIrOl/tQmIVB9Q+/uhyXzZiGf/tlB8rveBg/bH0RwyOj1vznD/0Zt2zejfufeAEzL7oQxdPcAmqPANka8VsDIAxQZvt3et1+26cwc+ZMebLlpZe68OR/78OOHT/CT//rEcyceSluv+1T8mJZwa0ms7G5Ad3Na6Sp6bAGSyPA0bYdcHQMqIlgHnqxO+HCTHZxO+aUPum4vtPxG6kQXVaK4sEuPNwEqzCyFu2YvUoPJmav2oTZe3vlr2XUvArv+ym6dRHmyRPHEds5qalGd2s5YAR35mdnj/ytzNEL6iux+Nge+3WzahN29hRg1hzpCz3262tnTwnWmoFN0zbnfg52YbMwbXmTtD4kN7+ILitFMXqxX/U7QSRxW7JDBW68qgADB9pRK8/KWqqyRS92Stfn7L1nULEhZLCR4dYHQfIce/qeGpkq42Tqd9OHrU8T5RiULBuD6o8um4NlV78NLW0voX7Hs3hLCKRhNAWvvWUpam9ZisGhEeWbsDyJXzD/bTb3Nt9FnQHvfe97cc01S+XJAIDPRj+Hv//sBtzzL1vQ398PGDXV7e2/xzXXLMW1114rf4VkRsFDVXBpXFgC9PSMowwcwK4dWOJW4CPKOkZB+dhhNFuBaC92RlvsizVtC1FLlyKDQxgoLMWNroVYY58Gh+QZ44R4TirwUEUJ0NPuSFNqo1uwbpd9WkbUVKO+DGjbrq7JrY36p4e10XYcRQEWLwtfq5RN+UU2bUtSVC7A4sIhdDzvPL+pUBvdhNk3Kx6yJ8KjbGHTtA2zV7XjaOFc1PsEp+OPPX1v3rgFs1dtmzjXpVILlodqVTKxJeWeGgccATWyMKj+9EcWAgDu3fUHeRYA4IqSQnztlnJ87ZZyfLnyPcjJkZfwZ4uZNfP/zE9maqhvvPEGeRIA4NVXTxp9u512PfooAODDy9XfJZNeWFQ+9a6swurIENp2SwV7IkqemnJUFMZr0uZfUgAMDuKIvFw26T+JjsECVKx2Kfwa+9RxTJ4xTtjOSQlmFQIDfdnVQiBuDfatKMHAgafGGNy3YH8PUHxJiTwjmGzKL7JpW5KkcfVcFPe8OMZznE4eZQulFjx8YAiIRCZWc2gpfSea6HJWfv3n6sgMwOI5lyJ/ah7OvDmMx57tytjo33/6j9swdUourrztAXkWAOCi6flYPOdSeTIA4JkXTkpTxBpnszbaHOFbH9Vb/28MmhYDtFEgFkPxofuFdaTe1KlT8YP7vo/h4WHk58ebr3/+ji9gZMT7PPzTN+pw5ZVzseFzd2B01F6bn0z6KN9rsM9oEvjwZXWoLzMHRRtC23ajFsPoE1Zs+/YQ2v50BhXvlAsxvdi5ahtqK6twcEMpOrZvQc/qBqyNxJc4uleqdaipRvcKcT3GOlCBhx5ZiQp0YbP8dExYv5xRR7fWof6qk8J34vu4f6GxLT3tmB1tUfy2sH1CXzhxexubG7A2Ym6jwWN74vOFYzjYhZ3HSrG27Ex8PeLvHXc55tu3YB3cjq19m6Jb61Avrt9UU43uFUXW+Y0fr37c2louNHeV9lH6nkVxnPTfFgbYG5TOoeJ4iPOtbXoQuHPDXBSL16N5XYhjF5rnE0Hm28+X6zFUXBvyMdGvhfhc27WdpN+w89s3v/nidj0FrBeWNZaznzvxuNs1NhvNu811G/viuL9FQa8h12Mnpx/6vT3rwB6pVsE4Dv3m9sX/3ty3SH1f+CzjuKblY+O6zarzqW+37V7bC6yV70vVdrodQ8U5UaZVMrf1hT0nQddXU43uFfDeNhv5nMbJ+22bPkORfwgc+YXi/hgQri/3e14+p3DmZcJ9Ka7T5L4t8jFXn1P3bdP5XsMG53ragRXSfeZIu1TbFM97ze2wzlVnRPi+uR3SMZTTLtUxlpaRz7lr/uZYt0GRl7veiyb52lac73gep5hnux7891G1jCpdVObljvMmzTfI95TjGCRwbTquu8EuIW8X2a8DR5mtMxIsbTE59nUIbc+exOL3ef+uMz+Rj6fz/k34OnMl/5Yzb4DqmAr3snz/AuJ2KK4/uXwmke8p1Trk46E89tJ5s66x3TNs5UFxXWkd5bt8/iy4ffKn6u84LrowHx8qu1z+btoUTcvHmXPuQeTps8N45oWTyk8wRtNu89/Q3z0dD75dnzmkTFFREQCgre05PLG7VZ7t6eRJfb+Li+23fCrNW9GAO/GUre9axQZjAAqjKfLmA0NCf7QtWPclvb/azh6xX5s9IV28vgFLO+N9jjYfGMK8FUK/DqvwJfV78+H+1HsNbi0rUParnlVRF98WM2GpgK1flL59Rr+mXYfRMQjMWyjWZlUgMgMASrBU6Jui9zU6iV85tsfYR2GQmtmrNmHzsVKstSWGErdjbq2/ABUbxGO7B22DJVgbuk9QKe5sjWC/dSyM9YUYhCSe8Qrr0ns16BzHYw/aMBf1jm0vxZ3rge/Z9n0N9rUaD1ms9bfjqPmVyiocbDUK3eL8SLmiv5TPMTT6Y6qvb32ApLUzhO3Y22u/tsf8G7Jk7/v1wIPxbUekHAcfqUP9JS9a37elAyJVTVrTNuzs0dMS5++F45t+hNC88UUcRQlWywPPGE1T1bWDa3DrVSdtfXHVx8bnfMM8T3qhzTpPe4G1jkJughTnRG8OXYK1SRxoJ1nnpHFhSZJaNOj9XcPVxLvnF4vXx+8PvXDnd8/rzUU3HxgygopNxr0sPAgwv7e9C6ek33PflgDXlO+2IeA1rFjPKj2YtgV4AfPt6NZFmKfqgxspR/fCHmF/ClCxvg4HWxfhlLnO7V0YiJTbrtvo1kX28QAUyygVzkW9mL95fM+9bOFhVz9OAZh1mbG+mnJpTACxWXgb1t1sbAOGrGNoBhD++xgP+qxlxHEqFOmLPs6AcZ6D5DmKtETN/9p0LQ/4lnFUZbbgolvrrAe85nHYfOAMcND/d21q9HEobMd7exdQttLZBz2B60xJce7UeYP3vVwb3WSVDaz9tx58e12bQfinZ43NDY70YfMBoGKDIp+IlKPbKufp13Jx2UrncmmQ237kFNw+Q8PnAQCDbw7jqT++Kn83bU4PvpXQqN3TLpiClrs+hgdqPyLPctI0l3A5HmC7Na9OJfMn8/Jy8LOf7cIvH38cAPCD+76PH96/3fb55j/X2757/rx+3oAQbd/D6mm3PV2q3d2FASloTFwBcGyP7Ylh88YteqHbGBgoelkRIAWitVEzcTcyHseTM2PAkE5FAuvR96m4/0Wp5qwN6262ZyR6YdscCKcNvzomNeWqXIDFhb042iNknlJfIzuz+Zj6OIyFfZ1tWNfWC3j2D/VQCHRsF49FG9bdrBfGHYGHj/mXFEh9ANuwLio82XT062zDuge7MFA4F7eK11sh0PGg/dw3NpdjnuNpaguWmzVyq+ei2PFEuAXLtyvWP5ZjWFOOisIhtInbZwaU0qBXoX9Dkvx9F5raNrWjbRAoLjxj6wPtlg64PUCqjRqFu8K5qG8da2Dtn36EozfRLC4rtwXDjavnKvdJ14LlUjqkH5siRKTz6He+zfNke5rftM0IxMJTnxM9yNvZAxSXrUT3mAPrVJ2TuEZplHjv7a3AQ4/o98X3wjRNdc0vCoBjUlP0BO55O73pvS2/2rUDy+Xtdd0W/2sq2LYFuIaNZr475TRmexcGrL/98m2TV74ojrVg7k8BIKZJu3Zgdw9QfNUC69g2b9xiz8PNZXyb+w+hTczfFOvWeZQtEuEYN8JoFj5jhsd1ovPdx8oZmAWpT3rTNus7ejpmvx/MB2tB83J1WqLmd216lwe8OctsAVVW4c6yAkcLjeaN29wDZ6V4+c12PnftwJK9vUBkkTSoXNDrTC143hDgXnYzhmtT55OemQ9jpNpo93xCSm+Msoi9Iis9cvcfOQXV58ILpqAgfwrODo3gsee6cObNYfm7afNCdx+mF0xF2ZXuo12LPrDk7ahYVIqZxRfKs7wrm80ByMTKatuE9BkYOI1YLIaZJXoi+OijLfh5yy/kxQAAkcg7bH+XlpZC0zScPv0X2/RUcmQg8hPXUNQDkRzpGwIKCzEfQPNrZ/TCd+CnY94FD68BXVxrMCrj7wztNpramPvd/PxJWyIVXVaK4p4ePNw3JCSSegJz6jXnvuoBuHrekT45kUyE4tgeH8SA9TAgQcrMsxenBoMUVuyO9A3ptZ2qzNutFlB5vZ1Bj22bjJooZQEN3oUhZWuD8MdQv86ctRjita0L/xt2qd73NvT0I2CNoVdBOV4DEg+s5VrcoORt1DmPceL0+1p8UKAa1VehRngt04a5KHacR8U22863e21q82tn5EkJ8D4neo2FEFgnkt7aKPYvSefEZG6rXtslzzVqNKz02qgpcTx0DcYrv5DT7OD3vExPR62WTy7ct0VxzKU0JKFt87iGXbfBSJ9NgfJtr8HI5N84PogBxTFX02vRzX1YG4F/MKDI39THxr1sEYb4cKi+rMD5e6489nFXP05BbllgckvHEsnLvdMSO8X5la5Nz/KAD1U6GcSYR9o3eV3DTT3OwRB9rzP7edU/5nl0z8Nd8waPe9lP+GvTOz3zehhT26moTJDTArMs4ndPp4ByULLrFr8dC6+4BGeHRvCLZ1/C4Jvuza3TYc/vXgYA3PN370Ouz4hjuTk52PDRxQCAXzz3kjxbECRIztwI36Ojozh8+AgWzJ9vNf9+7LFfYtcufdAxN9OnT8eVV87FoUOHEItlZjC1tGraZjWLsScubjwGDPFppuTMrNfo72fdUIoOq2mK0IQWZjBiJpp6RnO0s0UvkJsJg1cmPKcQxRjCqePyjImreeMWq9lOd6tUSzmnEMVGMzF7piL3PVQEd5UzMEt5Hg3G/NQzmv3bCvZCxpQKWbPv8Vos38FqzBFwUYK1XgXvTDBqDqyWMm5NU03mQ7cVQhcRqdYuEL/zGFbAc2K1IIiUZ6RJnUgZ0ARhNVOVmjImyjO/kNPssdzzeksrvUmm/h1HcOG5LX4CbpvvNWx2ZwogQL4dqum0Dz0IsL9ibawtveI8yhZ+pFrjqPHeavEVgs5aRjX/fWzBcqtLln6erXvZSF/mrbBfB92tzj7brgKmJUF5lgd8hE0nkzZA5pxCqa/1WBmtLsX0y+qTnkAe7nsvuxvLtanzTs/mX+KXHmYvR0CdbcE0APzoyU688vpZLLv6bWj49DJ5ts23bl+GDy65HMdePY0fP3lInq1ma9Jt1kgLnww0+QaA5557Hnl5efjkmnhh8vEndgtNunW5ubn44f3b8cXqL+CTn/wEpkyZgt/85mnbMhOOmNgZfWni/XbVT74A7yeGXk/GVKwmtF79Z4ynZcVXLUDUaO69vykeaM+a4/FUP8Ncn2omyHpKbNQiBGK9D9bon2MWuI4P2vqNyR95kB4bqZbEwW9+0hhPUOWCvZxBJpPfvvnNT6LErndpBNxEriEvVvqhPy0PI/60XO+76l4jU4GH1hvN6VNxbl0kcv8mdE7kJnXJPicB1+dsJZBeieUXY7/nrZp3M7gQHjIlti2yINsW5Bo21hOUZ77tXtsWWk011kb0vMMznwjLo2zhx3b+hObGCT/sCbyP8cDMHMPg4NYKKx8Q+w3bPgG2J6G0JCi38kCiAqYtY2v9Jwj4e0kROA8Pci+7GMu1KXFLz5J27DPAFlBnYzANAG+NjOKmux7Hqb+cw+c/tgQ/qVuJa995GfJy9drq/Kl5qFhUim1fvAF3fHwJ3hgYwvote3DuLXvgqeYRLGeughoA0PbsszjV24sbbvggPnDd+63pr7yi7s9eVvZu3PihD+HAgT/i+f/7rTx7HFK9G1Sv5UV/v6LwavbbdW+24v7U221AlwTVRBw1pXrBuxA3Gs299QRML3zMW1iFyAyPgoOqWRAQPw4p5+xT07hQ0exLboYDs4AhPyV2nhu9eZUbs/+dsR1GczXn8QjCaGrk2rfGY76xL67nKUF6M7Z0vibFY98A7/nJ3PewNWm22oKg15DqOlGnH46mjMY+e2pqR9tgARav19+fnWiNjHqbfSib3+uU92WQ+zfkObE3p0z2OQmwPrOVwIqQhesxSTy/SNo9b/aJtJo0Jr4tsrDbJp8T1/Uo8sU4Z77t2+IjafTAPRncyxY+aqpR73v+xpLfe++j2TdVTwM98oEgQqYlwUnlgVD80xa9S4KiTJMor/JKTQTzVE3eQ3M/d440X0E+BsGN5dp0pmdex14fiDLsg8PUswLqaxdclpXBtOnYq6ex4us/R+fL/Vix9Ao8cc8ncPw/q7Cv8W/Q9eMqtNz1May9fj7+9+Ar+HDto3jp5Gl5Fd7Bs0VaJkO10zCafX/nO/eir68PVVWfxk03VWLKlCm46+7NyubcOTk5OHfuHHY88CN5VlZwu1FcM2EAxWXX22qbG5tX6oOnGAl2dGu1vTbaSKT05nZGfxOriZDHU2+vZtcu9CaH4v7o70V1aOrBURRhsdHc21Tb2QvMKI3XWgOKbTYHQLKPWhjden2gJlhuxzwQI5ivWC80saqpdr5OAdBH6xSXwxrs26APbmIVisxgQCwAG088RY3N9gKyntCb/aHVxwOowEPNfk3BjMHLIuVSH9A12GeOnuo2f4P+RDfMACeq69scKdoxqnpNdaimtKrf0JtmmbU+HvuWwn2XedWkNTYrRvCUC5sBryGTX/oBa+BAsQmz8QQ//jUX+gA6xYXyoDkyo+bONjih+zZ7MwbtkfsUqu7LgPev+zlZg32KmiD9GAoPEJJ9ThJYX21UVbtp0semSIkQ+UX4e968R03SA4gQ2yLz37Zg17B6Pc580S/fDt4HNwFG31wxuGlsVnQVCsWjbOFBH81YelWgUdMoBkbK/F4VrAXZx8oq7LN1GRDHZXBJXxT5sjLPcU1LwpN/114eSLCMEzRtadpmNEm2pyvidRvsd1uw3KiBtR3PyiocXFFiH9hzzFzOnSPND3YvKwP0QNemXIaV+aRnrse+Tm99IQ00m02sgPrwK/3oPX0uK4Np0yuvn8WNX9uFjc3P4PHnj6OndxAL3nExDp/oxyO/OYrPNu3DTQ1P4MTrYdrwxQcf08zByazgOnNB9euvv4677r4HR44cxV+vXoWt396C2q/9I3JzHa310dHRgbvu3oyBgbQ1MkmMUaOj95uI3yxWJuzoSzWEtu0vYpbQX1Z/J6rYxLrI3p9W9Y5Bk0fBI0wzJf3JrtifN4L9ch9qAEAL9vcUoNgWOBsF3sICFPv01WneuMVqlmXu5514Kli/FZdjHkx8hOd68/gu7LG/YsM02IXNbYXx5VrLMa9HHuwnPvK32Xerez3wPUffHWF+a4Pj/Z1mnyp7P6+VmNUZIKHdtQNLzFdBCdsKsyDkMn/WgT2hmzipr2+jHxuEY9vagO6KwVC1MurfkLjsWyr33c6/oOzou2e8OsM2CmygawgB0w9h9FDrt68HHnQZ0ErW1IOj8K+RiQd+ftscQNM2e5/CVrf7Msj963dO7Pdid6v5SiT1iP7++xfknCSyPqPp6t4z6nEVwo7e7SNMfjGme141kJo5On+obZH5b1uwa7gFy61mueZ6VPmiR749hqbTnoyRlcX7Zmmn3L84JI+yRZziXjL6odofVhr3rXDO1fl9/OFyt9kPNeA+zhLTDvm9yUb/dtiWacDqPnvfcGee45eWhOVdHkisjBM8bamNxl/VZP32VYPxhwVBf1d1PI3Xfno3yw8hYN4Q7F6OB+jdrQ3Gg/ag16YPj/QMbse+7Iwj7842OTNv2p65aDHtxDbcxj+0mPDO6Zj+d0z/L7RRaLHzgBbDRYcfENaTGUuXLsX1H/wAFi682gqoY7EYOjsP4X+eegrt7b+Xv5JSsQXr5UnJU1mFgxtK0eEWHCdMf/fd4mPS6wuQit9Kj+jWOtRfdVJ6DRJRlqqpNgZBSbDfFgUT5viG+c5kl035RTZtS5I0NhuBZlIe4qWDR9liMmFaQi4yeU/nHn5QnpQyzmpOEphBd3Y8c9i/fz+a7v0u7viHanyr4S403HU3Pn/HF9B073fTHkyPO8Z7NlVPvb3fH5utVP0OibKV+f7wsdakkRu9f5l3axc7npMwsim/yKZtSYrKKqwO0XQ6ozzKFpMH0xJyo4/+H/YVZuMJa6g9a6jPQ4uNArFRXHQkO/slZ9L4qqEevxqb6xDZbT8Ojc1mU0k+DSaaTKJb63Dra1tszUSjW+tQXwb37i5ERETpVlPt3RUzxdJZQ82AWg6oYzFo2qjQ5JsBtRsG1OmhF5alASMGu9jUm2gyqqlGt2PwQz5cIyKibKB3g9AHKxvKWDANBtSp5BNQGzXTDKiDSWlATUREREREFEI6A2r2ofYyiR41EBERERERUWIYUBMRERERERGFwCbfZpNvLaaP5i02+Y6N6v9mk28iIiIiIiKSsIaaiIiIiIiIKAQG1H6y5B3URERERERElF0YUBMRERERERGFwICaiIiIiIiIKAQG1EREREREREQhMKAmIiIiIiIiCoEBNREREREREVEIDKiJiIiIiIiIQmBATURERERERBQCA2oiIiIiIiKiEBhQExEREREREYXAgJqIiIiIiIgoBAbURERERERERCHkrP5GiyZPnLg0aNbeaoCmQdM0aFoM0GLQYjFoWgxabBRaLIZY7Dy00fPQYqN4ee+99lURERERERHRpPb/pgH0zgrduugAAAAASUVORK5CYII=)"
      ],
      "metadata": {
        "id": "SyBU28K_sqN9"
      }
    },
    {
      "cell_type": "markdown",
      "source": [
        "3. Use the url to retrieve the file using `urllib.request.urlretrieve(url, file_path)` as shown below.\n",
        "- We are importing neccessary files like `GPTModules.py` and `gpt_download.py`"
      ],
      "metadata": {
        "id": "VKj8kmz8svWs"
      }
    },
    {
      "cell_type": "code",
      "source": [
        "# Importing neccesary GPT Modules\n",
        "if not os.path.exists(\"GPTModules.py\"):\n",
        "    url = (\"https://raw.githubusercontent.com/SubuMangu/SubuGPT/refs/heads/main/GPTModules.py\")\n",
        "    file_path = \"GPTModules.py\"\n",
        "    urllib.request.urlretrieve(url, file_path)\n",
        "# Importing files to  download gpt models from openai\n",
        "if not os.path.exists(\"gpt_download.py\"):\n",
        "    url = (\"https://raw.githubusercontent.com/SubuMangu/SubuGPT/refs/heads/main/gpt_download.py\")\n",
        "    file_path = \"gpt_download.py\"\n",
        "    urllib.request.urlretrieve(url, file_path)\n"
      ],
      "metadata": {
        "id": "FkZwdH8Cq8yw"
      },
      "execution_count": null,
      "outputs": []
    },
    {
      "cell_type": "markdown",
      "source": [
        "### 2. Formating entries"
      ],
      "metadata": {
        "id": "ICyjVNA4yOqj"
      }
    },
    {
      "cell_type": "code",
      "source": [
        "def format_input(entry):\n",
        "  # Can change the name of the keys in entry in the function match the component name of each entry\n",
        "  # Don't change this format of instruction\n",
        "    instruction_text = (\n",
        "        f\"Below is an instruction that describes a task. \"\n",
        "        f\"Write a response that appropriately completes the request.\"\n",
        "        f\"\\n\\n### Instruction:\\n{entry['instruction']}\"\n",
        "    )\n",
        "\n",
        "    input_text = f\"\\n\\n### Input:\\n{entry['input']}\" if entry[\"input\"] else \"\"\n",
        "\n",
        "    return instruction_text + input_text"
      ],
      "metadata": {
        "id": "6FwJaUCTsbNA"
      },
      "execution_count": null,
      "outputs": []
    },
    {
      "cell_type": "code",
      "source": [
        "model_input = format_input(data[50])\n",
        "desired_response = f\"\\n\\n### Response:\\n{data[50]['output']}\"\n",
        "\n",
        "print(model_input + desired_response)"
      ],
      "metadata": {
        "id": "In9xgQefsd8x",
        "colab": {
          "base_uri": "https://localhost:8080/"
        },
        "outputId": "78617be4-8364-44cc-d488-a947733372f4"
      },
      "execution_count": null,
      "outputs": [
        {
          "output_type": "stream",
          "name": "stdout",
          "text": [
            "Below is an instruction that describes a task. Write a response that appropriately completes the request.\n",
            "\n",
            "### Instruction:\n",
            "Identify the correct spelling of the following word.\n",
            "\n",
            "### Input:\n",
            "Ocassion\n",
            "\n",
            "### Response:\n",
            "The correct spelling is 'Occasion.'\n"
          ]
        }
      ]
    },
    {
      "cell_type": "markdown",
      "source": [
        "### 3. Creating Instruction Dataset"
      ],
      "metadata": {
        "id": "oSnJ70PCw4Fh"
      }
    },
    {
      "cell_type": "code",
      "source": [
        "!pip install tiktoken\n",
        "import torch\n",
        "import tiktoken\n",
        "from GPTModules import InstructionDataset,custom_collate_fn\n",
        "from GPTModules import generate,text_to_token_ids,token_ids_to_text"
      ],
      "metadata": {
        "id": "yk08_9XQwCVt"
      },
      "execution_count": null,
      "outputs": []
    },
    {
      "cell_type": "code",
      "source": [
        "train_portion = int(len(data) * 0.85)  # 85% for training\n",
        "test_portion = int(len(data) * 0.1)    # 10% for testing\n",
        "val_portion = len(data) - train_portion - test_portion  # Remaining 5% for validation\n",
        "\n",
        "train_data = data[:train_portion]\n",
        "test_data = data[train_portion:train_portion + test_portion]\n",
        "val_data = data[train_portion + test_portion:]"
      ],
      "metadata": {
        "id": "q88m9IqAwEas"
      },
      "execution_count": null,
      "outputs": []
    },
    {
      "cell_type": "code",
      "source": [
        "print(\"Training set length:\", len(train_data))\n",
        "print(\"Validation set length:\", len(val_data))\n",
        "print(\"Test set length:\", len(test_data))"
      ],
      "metadata": {
        "id": "6JV8Se9rwGBl",
        "colab": {
          "base_uri": "https://localhost:8080/"
        },
        "outputId": "d3463daf-84c1-4bde-ba23-e7d08a3811a8"
      },
      "execution_count": null,
      "outputs": [
        {
          "output_type": "stream",
          "name": "stdout",
          "text": [
            "Training set length: 935\n",
            "Validation set length: 55\n",
            "Test set length: 110\n"
          ]
        }
      ]
    },
    {
      "cell_type": "code",
      "source": [
        "device=torch.device('cuda' if torch.cuda.is_available() else 'cpu')"
      ],
      "metadata": {
        "id": "UvUMComsB3hI"
      },
      "execution_count": null,
      "outputs": []
    },
    {
      "cell_type": "code",
      "source": [
        "from functools import partial\n",
        "\n",
        "customized_collate_fn = partial(\n",
        "    custom_collate_fn,\n",
        "    device=device,\n",
        "    allowed_max_length=1024\n",
        ")"
      ],
      "metadata": {
        "id": "9AL_HszmwAAf"
      },
      "execution_count": null,
      "outputs": []
    },
    {
      "cell_type": "code",
      "source": [
        "from torch.utils.data import DataLoader\n",
        "tokenizer = tiktoken.get_encoding(\"gpt2\")\n",
        "\n",
        "num_workers = 0\n",
        "batch_size = 8\n",
        "\n",
        "torch.manual_seed(123)\n",
        "\n",
        "train_dataset = InstructionDataset(train_data, tokenizer)\n",
        "train_loader = DataLoader(\n",
        "    train_dataset,\n",
        "    batch_size=batch_size,\n",
        "    collate_fn=customized_collate_fn,\n",
        "    shuffle=True,\n",
        "    drop_last=True,\n",
        "    num_workers=num_workers\n",
        ")"
      ],
      "metadata": {
        "id": "g9fzL61zwIO0"
      },
      "execution_count": null,
      "outputs": []
    },
    {
      "cell_type": "code",
      "source": [
        "val_dataset = InstructionDataset(val_data, tokenizer)\n",
        "val_loader = DataLoader(\n",
        "    val_dataset,\n",
        "    batch_size=batch_size,\n",
        "    collate_fn=customized_collate_fn,\n",
        "    shuffle=False,\n",
        "    drop_last=False,\n",
        "    num_workers=num_workers\n",
        ")\n",
        "\n",
        "test_dataset = InstructionDataset(test_data, tokenizer)\n",
        "test_loader = DataLoader(\n",
        "    test_dataset,\n",
        "    batch_size=batch_size,\n",
        "    collate_fn=customized_collate_fn,\n",
        "    shuffle=False,\n",
        "    drop_last=False,\n",
        "    num_workers=num_workers\n",
        ")"
      ],
      "metadata": {
        "id": "qg4hiAPnwK3U"
      },
      "execution_count": null,
      "outputs": []
    },
    {
      "cell_type": "markdown",
      "source": [
        "### 3. Loading pretrained weights to the"
      ],
      "metadata": {
        "id": "IYzoIey3_j1P"
      }
    },
    {
      "cell_type": "code",
      "source": [
        "config={\n",
        "    'vocab_size': 50257,\n",
        "    'context_length': 1024,\n",
        "    'drop_rate': 0.0,\n",
        "    'qkv_bias': True,\n",
        "    'dim': 1024,\n",
        "    'num_layers': 24,\n",
        "    'num_heads': 16\n",
        "    }"
      ],
      "metadata": {
        "id": "X8JZ_3o_BgPn"
      },
      "execution_count": null,
      "outputs": []
    },
    {
      "cell_type": "code",
      "source": [
        "from GPTModules import GPTModel\n",
        "model=GPTModel(config)\n",
        "model.load_state_dict(torch.load(\"model.pth\", weights_only=True))\n",
        "model.eval();\n",
        "model.to(device)"
      ],
      "metadata": {
        "id": "U6I4NWEnBmZe"
      },
      "execution_count": null,
      "outputs": []
    },
    {
      "cell_type": "code",
      "source": [
        "torch.manual_seed(123)\n",
        "\n",
        "input_text = format_input(val_data[0])\n",
        "print(input_text)"
      ],
      "metadata": {
        "id": "XmKBW5y7w97E",
        "colab": {
          "base_uri": "https://localhost:8080/"
        },
        "outputId": "ec9c52e8-a9b4-4819-deb9-fb7c58d821b8"
      },
      "execution_count": null,
      "outputs": [
        {
          "output_type": "stream",
          "name": "stdout",
          "text": [
            "Below is an instruction that describes a task. Write a response that appropriately completes the request.\n",
            "\n",
            "### Instruction:\n",
            "Convert the active sentence to passive: 'The chef cooks the meal every day.'\n"
          ]
        }
      ]
    },
    {
      "cell_type": "code",
      "source": [
        "token_ids = generate(\n",
        "    model=model,\n",
        "    idx=text_to_token_ids(input_text, tokenizer),\n",
        "    max_new_tokens=35,\n",
        "    context_size=BASE_CONFIG[\"context_length\"],\n",
        "    eos_id=50256,\n",
        ")\n",
        "generated_text = token_ids_to_text(token_ids, tokenizer)"
      ],
      "metadata": {
        "id": "n-H1A93xw_2M"
      },
      "execution_count": null,
      "outputs": []
    },
    {
      "cell_type": "markdown",
      "source": [
        "### 4. Finetune the model\n",
        "- Download the `model.pth` file from https://huggingface.co/subumangu2003/subugpt"
      ],
      "metadata": {
        "id": "B1NUOeyPDLLc"
      }
    },
    {
      "cell_type": "code",
      "source": [
        "from GPTModules import train_model"
      ],
      "metadata": {
        "id": "J1sRIVE6xQzt"
      },
      "execution_count": null,
      "outputs": []
    },
    {
      "cell_type": "code",
      "source": [
        "import time\n",
        "\n",
        "start_time = time.time()\n",
        "num_epochs = 5\n",
        "train_losses,val_losses,epochs=train_model(\n",
        "    model=model,\n",
        "    train_loader=train_loader,\n",
        "    val_loader=val_loader,\n",
        "    num_epochs=num_epochs,\n",
        "    start_text=format_input(val_data[0]),\n",
        "    tokenizer=tokenizer,\n",
        "    new_tokens=50,\n",
        "    learning_rate=0.00005,\n",
        "    device=device\n",
        ")\n",
        "end_time = time.time()\n",
        "execution_time_minutes = (end_time - start_time) / 60\n",
        "print(f\"Training completed in {execution_time_minutes:.2f} minutes.\")"
      ],
      "metadata": {
        "id": "dvTdUB5uxWXQ",
        "colab": {
          "base_uri": "https://localhost:8080/"
        },
        "outputId": "03771299-ee10-4175-f479-b7cc2c6fcc3f"
      },
      "execution_count": null,
      "outputs": [
        {
          "output_type": "stream",
          "name": "stdout",
          "text": [
            "Epoch 1: Train loss 0.47921043634414673, Val loss 0.6445431113243103\n",
            "Below is an instruction that describes a task. Write a response that appropriately completes the request.\n",
            "\n",
            "### Instruction:\n",
            "Convert the active sentence to passive: 'The chef cooks the meal every day.'\n",
            "\n",
            "### Response:\n",
            "Anna saves the day each night - saving Doyle from his hazardous meal.\n",
            "Epoch 2: Train loss 0.3248623013496399, Val loss 0.6275027394294739\n",
            "Below is an instruction that describes a task. Write a response that appropriately completes the request.\n",
            "\n",
            "### Instruction:\n",
            "Convert the active sentence to passive: 'The chef cooks the meal every day.'\n",
            "\n",
            "### Response:\n",
            "The chef ensures each meal is cooked appropriately and healthfully.\n",
            "Epoch 3: Train loss 0.23804201185703278, Val loss 0.6331682205200195\n",
            "Below is an instruction that describes a task. Write a response that appropriately completes the request.\n",
            "\n",
            "### Instruction:\n",
            "Convert the active sentence to passive: 'The chef cooks the meal every day.'\n",
            "\n",
            "### Response:\n",
            "The meal is cooked every day by the chef.\n",
            "Epoch 4: Train loss 0.2070731520652771, Val loss 0.6308887004852295\n",
            "Below is an instruction that describes a task. Write a response that appropriately completes the request.\n",
            "\n",
            "### Instruction:\n",
            "Convert the active sentence to passive: 'The chef cooks the meal every day.'\n",
            "\n",
            "### Input:\n",
            "The chef cooks the meal every day.\n",
            "\n",
            "### Response:\n",
            "The meal is cooked daily by the chef.\n",
            "Epoch 5: Train loss 0.17831099033355713, Val loss 0.6985428333282471\n",
            "Below is an instruction that describes a task. Write a response that appropriately completes the request.\n",
            "\n",
            "### Instruction:\n",
            "Convert the active sentence to passive: 'The chef cooks the meal every day.'\n",
            "\n",
            "### Input:\n",
            "The chef cooks the meal every day.\n",
            "\n",
            "### Response:\n",
            "The meal is never cooked by the chef.\n",
            "Training completed in 6.75 minutes.\n"
          ]
        }
      ]
    },
    {
      "cell_type": "markdown",
      "source": [
        "### 5. Download the instruction with reponse data"
      ],
      "metadata": {
        "id": "JMOdESTzDf00"
      }
    },
    {
      "cell_type": "code",
      "source": [
        "from tqdm import tqdm\n",
        "\n",
        "for i, entry in tqdm(enumerate(test_data), total=len(test_data)):\n",
        "\n",
        "    input_text = format_input(entry)\n",
        "\n",
        "    token_ids = generate(\n",
        "        model=model,\n",
        "        idx=text_to_token_ids(input_text, tokenizer).to(device),\n",
        "        max_new_tokens=256,\n",
        "        context_size=BASE_CONFIG[\"context_length\"],\n",
        "        eos_id=50256\n",
        "    )\n",
        "    generated_text = token_ids_to_text(token_ids, tokenizer)\n",
        "    response_text = generated_text[len(input_text):].replace(\"### Response:\", \"\").strip()\n",
        "\n",
        "    test_data[i][\"model_response\"] = response_text\n",
        "\n",
        "\n",
        "with open(\"instruction-data-with-response.json\", \"w\") as file:\n",
        "    json.dump(test_data, file, indent=4)  # \"indent\" for pretty-printing"
      ],
      "metadata": {
        "id": "BhDVdZ0szvRa",
        "colab": {
          "base_uri": "https://localhost:8080/"
        },
        "outputId": "db2b63b4-830b-4e07-cc15-707260fa0581"
      },
      "execution_count": null,
      "outputs": [
        {
          "output_type": "stream",
          "name": "stderr",
          "text": [
            "100%|██████████| 110/110 [01:27<00:00,  1.26it/s]\n"
          ]
        }
      ]
    },
    {
      "cell_type": "markdown",
      "source": [
        "### 6. Save and Download the model"
      ],
      "metadata": {
        "id": "ofsCJYLsDwbs"
      }
    },
    {
      "cell_type": "code",
      "source": [
        "torch.save(model.state_dict(), \"model.pth\")"
      ],
      "metadata": {
        "id": "HoKwzlXQTq3L"
      },
      "execution_count": null,
      "outputs": []
    },
    {
      "cell_type": "code",
      "source": [
        "from google.colab import  files\n",
        "files.download(\"model.pth\")"
      ],
      "metadata": {
        "colab": {
          "base_uri": "https://localhost:8080/",
          "height": 34
        },
        "id": "eLd8H5IjWh2p",
        "outputId": "a90cbdaa-6703-46e9-cc19-ebd8d41f732d"
      },
      "execution_count": null,
      "outputs": [
        {
          "output_type": "display_data",
          "data": {
            "text/plain": [
              "<IPython.core.display.Javascript object>"
            ],
            "application/javascript": [
              "\n",
              "    async function download(id, filename, size) {\n",
              "      if (!google.colab.kernel.accessAllowed) {\n",
              "        return;\n",
              "      }\n",
              "      const div = document.createElement('div');\n",
              "      const label = document.createElement('label');\n",
              "      label.textContent = `Downloading \"${filename}\": `;\n",
              "      div.appendChild(label);\n",
              "      const progress = document.createElement('progress');\n",
              "      progress.max = size;\n",
              "      div.appendChild(progress);\n",
              "      document.body.appendChild(div);\n",
              "\n",
              "      const buffers = [];\n",
              "      let downloaded = 0;\n",
              "\n",
              "      const channel = await google.colab.kernel.comms.open(id);\n",
              "      // Send a message to notify the kernel that we're ready.\n",
              "      channel.send({})\n",
              "\n",
              "      for await (const message of channel.messages) {\n",
              "        // Send a message to notify the kernel that we're ready.\n",
              "        channel.send({})\n",
              "        if (message.buffers) {\n",
              "          for (const buffer of message.buffers) {\n",
              "            buffers.push(buffer);\n",
              "            downloaded += buffer.byteLength;\n",
              "            progress.value = downloaded;\n",
              "          }\n",
              "        }\n",
              "      }\n",
              "      const blob = new Blob(buffers, {type: 'application/binary'});\n",
              "      const a = document.createElement('a');\n",
              "      a.href = window.URL.createObjectURL(blob);\n",
              "      a.download = filename;\n",
              "      div.appendChild(a);\n",
              "      a.click();\n",
              "      div.remove();\n",
              "    }\n",
              "  "
            ]
          },
          "metadata": {}
        },
        {
          "output_type": "display_data",
          "data": {
            "text/plain": [
              "<IPython.core.display.Javascript object>"
            ],
            "application/javascript": [
              "download(\"download_ab13a9aa-4ee6-4e5b-b562-233db4cae885\", \"model.pth\", 1725929983)"
            ]
          },
          "metadata": {}
        }
      ]
    }
  ]
}